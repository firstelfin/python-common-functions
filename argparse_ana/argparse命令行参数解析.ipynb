{
 "cells": [
  {
   "cell_type": "markdown",
   "id": "43726df1",
   "metadata": {},
   "source": [
    "# 一、导入命令行参数解析包"
   ]
  },
  {
   "cell_type": "code",
   "execution_count": 1,
   "id": "1989a56a",
   "metadata": {},
   "outputs": [],
   "source": [
    "import argparse"
   ]
  },
  {
   "cell_type": "markdown",
   "id": "773ca8c8",
   "metadata": {},
   "source": [
    "> 导入包没有什么难度，我们只需要记住库的名字即可！这个库的主要作用就是对命令行参数进行解析，这里我们可以分开记忆：`arg` + `parse`。这两部分分别是**参数argument**和**解析器parser**的缩写，几乎是见名知义。"
   ]
  },
  {
   "cell_type": "markdown",
   "id": "39673fef",
   "metadata": {},
   "source": [
    "# 二、解析器实例化"
   ]
  },
  {
   "cell_type": "markdown",
   "id": "3dbc9c05",
   "metadata": {},
   "source": [
    "在python中将一个类实例化获得一个具体的对象，这是一个非常常见的操作。我们需要在这个对象下进行相应的操作，在`argparse`库中，我们经常会不加思索实例化一个`ArgumentParser`类型的`parser`对象。明显类的名字就阐述了这个包的用途，类名的记忆完全可以参考库名的记忆。"
   ]
  },
  {
   "cell_type": "code",
   "execution_count": 2,
   "id": "99291dd2",
   "metadata": {},
   "outputs": [],
   "source": [
    "parser = argparse.ArgumentParser()"
   ]
  },
  {
   "cell_type": "markdown",
   "id": "1631f7d6",
   "metadata": {},
   "source": [
    "上面的代码即可实现一个解析器对象，剩余的工作只需要告诉这个解析器它需要解析什么！在做这一步之前，我们先思考这个对象初始化的时候我们可以给它添加一些基础配置吗？这当然是可以的，python类的`__init__`函数就是实现这个功能的。<br />\n",
    "*若你只想了解argparse大概并快速上手，可跳过本章剩余内容。*"
   ]
  },
  {
   "cell_type": "markdown",
   "id": "65bd2984",
   "metadata": {},
   "source": [
    "* **prog**: 进程名\n",
    "* **usage**: 用法消息（默认值：根据参数自动生成）\n",
    "* **description**: 程序功能的描述\n",
    "* **epilog**: 参数描述后面的文本\n",
    "* **parents**: 应将其参数复制到此解析器中的解析器（类似于**继承**）\n",
    "* **formatter_class**: 用于打印帮助消息的HelpFormatter类\n",
    "* **prefix_chars**: 作为可选参数前缀的字符\n",
    "* **fromfile_prefix_chars**: 作为包含附加参数的文件前缀的字符\n",
    "* **argument_default**: 所有参数的默认值\n",
    "* **conflict_handler**: 指示如何处理冲突的字符串\n",
    "* **add_help**: 添加-h/-help选项\n",
    "* **allow_abbrev**: 允许长选项明确缩写"
   ]
  },
  {
   "cell_type": "markdown",
   "id": "924f8b05",
   "metadata": {},
   "source": [
    "## 2.1 案例一：添加程序名、描述、参数后描述文本"
   ]
  },
  {
   "cell_type": "markdown",
   "id": "e8e97fe7",
   "metadata": {},
   "source": [
    "**配置参数后的描述文本**"
   ]
  },
  {
   "cell_type": "markdown",
   "id": "fe18fffe",
   "metadata": {},
   "source": [
    "```python\n",
    "examples = \"\"\"examples:\n",
    "    # 初始化解析器\n",
    "    parser = argparse.ArgumentParser(description=%(prog)s程序的简单介绍)\n",
    "    # 添加参数\n",
    "    parser.add_argument('--name', default='', help='Add parameter description')\n",
    "\"\"\"\n",
    "```"
   ]
  },
  {
   "cell_type": "markdown",
   "id": "764fec28",
   "metadata": {},
   "source": [
    "**解析器初始化**"
   ]
  },
  {
   "cell_type": "markdown",
   "id": "1f5da568",
   "metadata": {},
   "source": [
    "```python\n",
    "parser = argparse.ArgumentParser(\n",
    "    prog=\"argpsrse_test\",\n",
    "    description=\"命令行参数使用及其功能说明\",\n",
    "    epilog=examples,\n",
    "    formatter_class=argparse.RawDescriptionHelpFormatter\n",
    ")\n",
    "args = parser.parse_args()\n",
    "\n",
    "```"
   ]
  },
  {
   "cell_type": "markdown",
   "id": "b7e2180c",
   "metadata": {},
   "source": [
    "**命令行查看帮助文档**"
   ]
  },
  {
   "cell_type": "markdown",
   "id": "fe74c860",
   "metadata": {},
   "source": [
    "```shell\n",
    "$ python argparse_ana/parser_ana.py -h\n",
    "usage: argpsrse_test [-h]\n",
    "\n",
    "命令行参数使用及其功能说明\n",
    "\n",
    "optional arguments:\n",
    "  -h, --help  show this help message and exit\n",
    "\n",
    "examples:\n",
    "    # 初始化解析器\n",
    "    parser = argparse.ArgumentParser(description=argpsrse_test程序的简单介绍)\n",
    "    # 添加参数\n",
    "    parser.add_argument('--name', default='', help='Add parameter description')\n",
    "```"
   ]
  },
  {
   "cell_type": "markdown",
   "id": "3ef39d6f",
   "metadata": {},
   "source": [
    "**小结**"
   ]
  },
  {
   "cell_type": "markdown",
   "id": "75fd89da",
   "metadata": {},
   "source": [
    "通过实例化并查看帮助文档，我们可以知道：\n",
    "* **prog**: 这个参数我们一般用于表示当前程序的程序名,如在参数后描述文本中我们可以使用%(prog)s进行引用\n",
    "* **epilog**: 参数后描述文本，一般我们先用字符串进行配置好\n",
    "* **formatter_class**: 这个参数我们配置了RawDescriptionHelpFormatter类，没有使用默认的HelpFormatter类，因为前者可以保持字符串的格式！\n",
    "* **parser.parse_args()**： parser.parse_args()方法必须要被调用，不然help命令无法使用(不会正常显示)"
   ]
  },
  {
   "cell_type": "markdown",
   "id": "03f00639",
   "metadata": {},
   "source": [
    "## 2.2 实例化的其他参数说明"
   ]
  },
  {
   "cell_type": "markdown",
   "id": "7b692d72",
   "metadata": {},
   "source": [
    "* **prefix_chars**: 参数的前缀字符，默认是\"-\"，不建议更换！比如上面我们要添加\"name\"参数使用的是\"--name\"而不是\"name\"\n",
    "* **allow_abbrev**: 这个参数控制是否允许参数缩写，添加的时候我们都可以配置缩写，但是配置此项位False则在命令行不能使用缩写传参。这个参数不需要管就好！"
   ]
  },
  {
   "cell_type": "markdown",
   "id": "62882c12",
   "metadata": {},
   "source": [
    "# 三、添加参数"
   ]
  },
  {
   "cell_type": "markdown",
   "id": "c6c3eb25",
   "metadata": {},
   "source": [
    "前面我们实际上已经使用了解析器的**add_argument**方法进行参数添加，这里就不卖关子，我们直接讲此方法的调用参数如何选择！"
   ]
  },
  {
   "cell_type": "markdown",
   "id": "0ffce470",
   "metadata": {},
   "source": [
    "## 3.1 基础参数配置"
   ]
  },
  {
   "cell_type": "markdown",
   "id": "7721d39b",
   "metadata": {},
   "source": [
    "**add_argument**方法的常用参数有：\n",
    "* **flag1**: 带前缀或不带前缀的参数名，如\"--name\"、\"name(位置参数)\"\n",
    "* **flag2**: 带前缀的参数名，如\"-n\"，一般用于简称，flag1与flag2位置可以交换\n",
    "* **default**: 默认值\n",
    "* **help**: 当前参数的帮助信息\n",
    "* **required**: True/False，是否此参数是必须的!\n",
    "* **choices**: 允许的值集合。如果命令行传入参数解析成相应的格式后，如果不在choices中将会引发异常\n",
    "\n",
    "带前缀的是可选参数，不带前缀是位置参数"
   ]
  },
  {
   "cell_type": "markdown",
   "id": "a43b5403",
   "metadata": {},
   "source": [
    "**基础案例**：\n",
    "```python\n",
    "parser.add_argument(\"-n\", \"--name\", default='firstelfin', help=\"所有者姓名\")\n",
    "```\n",
    "如上所示，参数name，简称为n，默认值为'firstelfin'(参数没有传值时的默认值),help用于对参数说明，类似于解析器的description.\n",
    "需要注意的是，在传参的时候我们可以使用简称，但是在参数调用时使用简称会报错！如果我们直接调用n，则会报如下错误：\n",
    "`AttributeError: 'Namespace' object has no attribute 'n'`\n",
    "这个时候必须使用name.\n",
    "\n",
    "带`-`的参数名解析后，默认是会解析为下划线\"\\_\"的。"
   ]
  },
  {
   "cell_type": "markdown",
   "id": "c0657ed6",
   "metadata": {},
   "source": [
    "## 3.2 dest参数"
   ]
  },
  {
   "cell_type": "markdown",
   "id": "ecbe6e3c",
   "metadata": {},
   "source": [
    "dest参数用于指定解析后的参数名，需要注意的是我们使用了dest参数后，后面调用就只能使用这个值。\n",
    "\n",
    "\n",
    "```python\n",
    "parser.add_argument(\"-n\", \"--name\", default='firstelfin', dest=\"n\", help=\"所有者姓名\")\n",
    "```\n",
    "\n",
    "无论使用`n`还是`name`，参数都会被解析为`n`。\n",
    "需要注意的是不同参数可以使用dest解析为一个参数！\n",
    "\n",
    "解析器解析后，参数名究竟是什么优先级？答案是：`dest > --(两个前缀符号的可选参数) > -(一个前缀符号的可选参数)`"
   ]
  },
  {
   "cell_type": "markdown",
   "id": "0e51c4ce",
   "metadata": {},
   "source": [
    "## 3.3 nargs参数"
   ]
  },
  {
   "cell_type": "markdown",
   "id": "69b04bdc",
   "metadata": {},
   "source": [
    "这个参数如其名n + args表示多个参数值，即我们在命令行可以给这个参数传多个参数。但是究竟要传几个值呢？我们需要通过nargs的值进行控制：\n",
    "* `nargs=n`: 我们需要传入n个参数值\n",
    "* `nargs=?`: 我们需要传入1个参数值或者不传值，注意这里的不传值是命令行不写参数值，但是参数要写！\n",
    " 当不传值时，位置参数默认使用default的值，可选参数默认使用const的值。需要注意如果命令行没有写参数，那么都默认使用default的值。\n",
    " ```python\n",
    " parser.add_argument(\"--city\", nargs=\"?\", const=\"chengdu\", default=\"guangzhou\", help=\"city name\")\n",
    " parser.add_argument(\"home\", nargs=\"?\", const=\"chengdu\", default=\"guangzhou\", help=\"city name\")\n",
    " # ----------------------------------------------- #\n",
    " >>> python argparse_ana/parser_ana.py --city\n",
    " # city、home的值分别是：\n",
    "    chengdu 、guangzhou\n",
    " >>> python argparse_ana/parser_ana.py\n",
    " # city、home的值分别是：\n",
    "    guangzhou 、guangzhou\n",
    " ```\n",
    "* `nargs=+`: 我们需要传入至少1个参数值\n",
    "* `nargs=*`: 可以传入任意个参数值,此时不能有const参数，除非使用了action参数"
   ]
  },
  {
   "cell_type": "markdown",
   "id": "d9437065",
   "metadata": {},
   "source": [
    "## 3.4 action参数"
   ]
  },
  {
   "cell_type": "markdown",
   "id": "19040d44",
   "metadata": {},
   "source": [
    "action参数用于指定我们的参数进行传参需要执行什么动作，即命令行出现了这个参数，我们需要执行什么操作。\n",
    "* `action=store`: action参数的默认值，不传参，命令行参数初始化为None\n",
    "* `action=store_true`: 即使没有默认值default，命令行参数也会初始化，初始化的值为False\n",
    "* `action=store_false`: 即使没有默认值default，命令行参数也会初始化，初始化的值为True\n",
    "* `action=store_const`: 命令行没有传参的时候，初始化为None; 命令行出现参数，但是没有传参时初始化为const参数对应的值 \n",
    "* `action=append`: 允许命令行参数多次出现，最终将同一个命令行参数的参数值合并\n",
    " ```python\n",
    " parser.add_argument(\"--performance\", action=\"append\",  help=\"performance\")\n",
    " >>> python argparse_ana/parser_ana.py --performance 3 --performance 3 --performance 3\n",
    " # 此时performance参数的值为：\n",
    "    ['3', '3', '3']\n",
    " # 那么问题来了，如果我们想多次传入参数，又不想限制住每次只能传一个值，该证明操作？\n",
    " ```\n",
    "* `action=append_const`: 类似于append，区别在于命令行参数在命令行出现却没有传值时，默认append参数const对应的值；命令行不出现此命令行参数时，命令行参数初始化为None。注意这里我们不能对命令行参数传值，会报错。\n",
    "* `action=count`: 统计命令行参数出现的次数，注意同样的不能传参 \n",
    "* `action=extend`: 如果使用append追加结合nargs=+使用，则最后得到一个嵌套列表，如果我们想得到一个列表怎么办？就只能使用extend这个选项。\n",
    " ```python\n",
    " parser.add_argument(\"-p\", action=\"extend\", nargs=\"+\", help=\"performance\")\n",
    " >>> python argparse_ana/parser_ana.py -p 1 2 -p 54 89\n",
    "['1', '2', '54', '89']\n",
    " ```\n",
    "* `action=version`: 用于显示版本信息\n",
    " ```python\n",
    " parser.add_argument('-V', action='version', version='parser_ana V20211029')\n",
    " >>> python argparse_ana/parser_ana.py -V\n",
    " parser_ana V20211029\n",
    " ```\n",
    "* `action=help`: 用于显示帮助信息，实际上就是默认的\"-h\",效果一模一样\n",
    "\n",
    "\n",
    "关于`store_true`、`store_false`的初始化记忆可以理解为，这个参数是否store，`store_true`的默认动作是store了，没有值，那么实际就是False;`store_false`类似可得！"
   ]
  },
  {
   "cell_type": "markdown",
   "id": "6e86e511",
   "metadata": {},
   "source": [
    "## 3.5 其他参数"
   ]
  },
  {
   "cell_type": "markdown",
   "id": "6ab1f752",
   "metadata": {},
   "source": [
    "* **metavar**: 控制命令行参数在帮助文档中使用格式信息的别称，你可以翻译为元变量\n",
    " ```python\n",
    " arg.add_argument(\"--subject1\", nargs=\"+\", dest=\"s1\", metavar=\"e\", default=\"mathematics\", help=\"subject name\")\n",
    " arg.add_argument(\"--subject2\", nargs=\"+\", dest=\"s2\", default=\"mathematics\", help=\"subject name\")\n",
    " >>> python argparse_ana/parser_ana.py -h\n",
    " #输出的帮助文档信息为：\n",
    " usage: parser_ana.py [-h] [--subject1 e [e ...]] [--subject2 S2 [S2 ...]]\n",
    "\n",
    " 命令行参数使用及其功能说明\n",
    "\n",
    " optional arguments:\n",
    "   -h, --help            show this help message and exit\n",
    "   --subject1 e [e ...]  subject name\n",
    "   --subject2 S2 [S2 ...]  subject name\n",
    "\n",
    " examples:\n",
    "    # 初始化解析器\n",
    "    parser = argparse.ArgumentParser(description=parser_ana.py程序的简单介绍)\n",
    "    # 添加参数\n",
    "    parser.add_argument('--name', default='', help='Add parameter description')\n",
    " ```\n",
    " \n",
    " 这里注意到，不使用metavar参数时，默认调用信息元变量使用的是解析后变量名；使用metavar后就使用metavar的值替换了！"
   ]
  },
  {
   "cell_type": "markdown",
   "id": "8ad88210",
   "metadata": {},
   "source": [
    "---"
   ]
  },
  {
   "cell_type": "markdown",
   "id": "df281a64",
   "metadata": {},
   "source": [
    "至此，argparse库的常用功能就讲解完了！，关于其他类、方法都是围绕上面的知识展开的附属功能，下面我们简单介绍一下。"
   ]
  },
  {
   "cell_type": "markdown",
   "id": "e1be2854",
   "metadata": {},
   "source": [
    "# 四、其他类"
   ]
  },
  {
   "cell_type": "markdown",
   "id": "6c93f589",
   "metadata": {},
   "source": [
    "你是否会疑问，这个包只有这一个类吗？当然不是了，你掌握`ArgumentParser`类就可以很流畅使用这个命令行解析工具了，但是它还有很多其他类，如我们上面已经用到的`RawDescriptionHelpFormatter`。"
   ]
  },
  {
   "cell_type": "markdown",
   "id": "7ea33b43",
   "metadata": {},
   "source": [
    "1. **HelpFormatter**: 用于生成使用情况消息和参数帮助字符串的格式化程序。只有此类的名称被视为公共API。该类提供的所有方法都被视为一个实现细节。\n",
    "2. **RawDescriptionHelpFormatter**: 帮助消息格式化程序，在description字符串中保留任何格式。只有此类的名称被视为公共API。该类提供的所有方法都被视为一个实现细节。\n",
    "3. **RawTextHelpFormatter**: 帮助消息格式化程序，它保留所有帮助文本的格式。只有此类的名称被视为公共API。该类提供的所有方法都被视为一个实现细节。\n",
    "4. **ArgumentDefaultsHelpFormatter**: 帮助消息格式化程序，它将默认值添加到参数帮助中。只有此类的名称被视为公共API。该类提供的所有方法都被视为一个实现细节。\n",
    "5. **MetavarTypeHelpFormatter**: 使用参数“type”作为默认metavar值（而不是参数“dest”）的帮助消息格式化程序。\n",
    "6. **ArgumentError**: 创建或使用参数（可选或位置）时出错。此异常的字符串值是消息，并添加了有关导致该异常的参数的信息。\n",
    "7. **ArgumentTypeError**: 尝试将命令行字符串转换为type类型时出错。\n",
    "8. **Action**: 自定义action的类。\n",
    "9. **FileType**: 用于创建文件对象类型的工厂。FileType的实例通常作为type=参数传递给ArgumentParser add_argument（）方法。\n",
    " ```python\n",
    " parser.add_argument('infile', nargs='?',\n",
    "              type=argparse.FileType(),\n",
    "              help='give me a file here, i open it and reture to you',\n",
    "              default=sys.stdin)\n",
    " parser.add_argument('outfile', nargs='?',\n",
    "              type=argparse.FileType('w'),\n",
    "              help='give me a file here, i write it for you with in file',\n",
    "              default=sys.stdout)\n",
    " ```\n",
    " 参考：https://www.pynote.net/archives/2353\n",
    "10. **Namespace**: 命名空间\n"
   ]
  },
  {
   "cell_type": "markdown",
   "id": "6f25e2af",
   "metadata": {},
   "source": [
    "# 五、子解析器"
   ]
  },
  {
   "cell_type": "markdown",
   "id": "b3564838",
   "metadata": {},
   "source": [
    "子解析器对应了我们命令行中的子命令。如：`python yolov5.py train --datasets /data/ --batchsize 64 -lr warmup`中的train，我们没有传入任何参数值，这种写法可能有如下情况：\n",
    "* train是某个参数的参数值\n",
    "* train是命令行参数，但是使用了默认值\n",
    "* train是子命令"
   ]
  },
  {
   "cell_type": "markdown",
   "id": "4e53a658",
   "metadata": {},
   "source": [
    "这一章我们是讨论子命令，所以假设上面的情况是一个子命令的命令行调用代码。那么如何配置子命令？为什么要使用子命令？"
   ]
  },
  {
   "cell_type": "markdown",
   "id": "1da046bc",
   "metadata": {},
   "source": [
    "## 5.1 子命令配置"
   ]
  },
  {
   "cell_type": "markdown",
   "id": "9456f4a8",
   "metadata": {},
   "source": [
    "子命令配置前面我们要先实例化一个子解析器，载再添加子命令，zip后为子命令配置参数：\n",
    "```python\n",
    "import argparse\n",
    "\n",
    "examples = \"\"\"examples:\n",
    "    # 初始化解析器\n",
    "    parser = argparse.ArgumentParser(description=%(prog)s程序的简单介绍)\n",
    "    # 添加参数\n",
    "    parser.add_argument('--name', default='', help='Add parameter description')\n",
    "\"\"\"\n",
    "\n",
    "arg = argparse.ArgumentParser(\n",
    "    description=\"命令行参数使用及其功能说明\",\n",
    "    epilog=examples,\n",
    "    formatter_class=argparse.RawDescriptionHelpFormatter\n",
    ")\n",
    "\n",
    "arg.add_argument(\"--model\", required=True, help=\"模型加载路径\")\n",
    "# 添加子解析器\n",
    "subparsers = arg.add_subparsers(description=\"模型训练子解析器\", dest=\"command\", help=\"子解析器对象\")\n",
    "\n",
    "parser_train = subparsers.add_parser(name=\"train\", help=\"训练一个模型\")\n",
    "parser_train.add_argument(\"--batchsize\", default=64, help=\"Train batch size\")\n",
    "parser_train.add_argument(\"-lr\", required=True, default=\"WarmUp\", help=\"Learning rate of train\")\n",
    "\n",
    "parser_valid = subparsers.add_parser(name=\"valid\", help=\"验证一个模型\")\n",
    "parser_valid.add_argument(\"--batchsize\", default=64, help=\"Valid batch size\")\n",
    "parser_valid.add_argument(\"--out\", type=str, required=True, help=\"Result output path\")\n",
    "\n",
    "args = arg.parse_args()\n",
    "```\n",
    "\n",
    "这里相当于对参数进行了分组！"
   ]
  },
  {
   "cell_type": "markdown",
   "id": "a0fca227",
   "metadata": {},
   "source": [
    "## 5.2 子命令参数帮助文档查看"
   ]
  },
  {
   "cell_type": "markdown",
   "id": "2732a0d3",
   "metadata": {},
   "source": [
    "一般我们使用`-h`进行帮助文档查看，这里也是一样：\n",
    "\n",
    "**解析器的帮助文档查看**\n",
    "```python\n",
    "python argparse_ana/parser_ana.py -h\n",
    "```\n",
    "输出的结果为：\n",
    "```shell\n",
    "usage: parser_ana.py [-h] --model MODEL {train,valid} ...\n",
    "\n",
    "命令行参数使用及其功能说明\n",
    "\n",
    "optional arguments:\n",
    "  -h, --help     show this help message and exit\n",
    "  --model MODEL  模型加载路径\n",
    "\n",
    "subcommands:\n",
    "  模型训练子解析器\n",
    "\n",
    "  {train,valid}  子解析器对象\n",
    "    train        训练一个模型\n",
    "    valid        验证一个模型\n",
    "\n",
    "examples:\n",
    "    # 初始化解析器\n",
    "    parser = argparse.ArgumentParser(description=parser_ana.py程序的简单介绍)\n",
    "    # 添加参数\n",
    "    parser.add_argument('--name', default='', help='Add parameter description')\n",
    "```\n",
    "对比之前的帮助文档，这里已经发生了很大的变换，注意到花括号中即为我们的子命令。……什么你还想套娃？不妨自己再测试\n",
    "\n",
    "**子命令的帮助文档查看**\n",
    "```python\n",
    "python argparse_ana/parser_ana.py train -h\n",
    "```\n",
    "输出的结果为：\n",
    "```shell\n",
    "usage: parser_ana.py train [-h] [--batchsize BATCHSIZE] -lr LR\n",
    "\n",
    "optional arguments:\n",
    "  -h, --help            show this help message and exit\n",
    "  --batchsize BATCHSIZE\n",
    "                        Train batch size\n",
    "  -lr LR                Learning rate of train\n",
    "```\n",
    "明显这样做相当于进行了参数、命令的分层，和我们平时使用别人的帮助文档类似！"
   ]
  },
  {
   "cell_type": "markdown",
   "id": "213cd27e",
   "metadata": {},
   "source": [
    "## 5.3 子命令参数的使用"
   ]
  },
  {
   "cell_type": "markdown",
   "id": "77074266",
   "metadata": {},
   "source": [
    "* 首先子命令可以直接使用\n",
    "* 程序证明知道我们要train还是valid,这个时候注意一些子解析器我们使用了dest=\"command\",调用command的值就知道是train还是valid。"
   ]
  },
  {
   "cell_type": "code",
   "execution_count": null,
   "id": "3c469dc9",
   "metadata": {},
   "outputs": [],
   "source": []
  }
 ],
 "metadata": {
  "kernelspec": {
   "display_name": "Python 3",
   "language": "python",
   "name": "python3"
  },
  "language_info": {
   "codemirror_mode": {
    "name": "ipython",
    "version": 3
   },
   "file_extension": ".py",
   "mimetype": "text/x-python",
   "name": "python",
   "nbconvert_exporter": "python",
   "pygments_lexer": "ipython3",
   "version": "3.8.5"
  }
 },
 "nbformat": 4,
 "nbformat_minor": 5
}
